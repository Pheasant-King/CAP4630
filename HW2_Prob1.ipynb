{
  "nbformat": 4,
  "nbformat_minor": 0,
  "metadata": {
    "colab": {
      "name": "HW2_Prob1.ipynb",
      "provenance": [],
      "collapsed_sections": [],
      "include_colab_link": true
    },
    "kernelspec": {
      "name": "python3",
      "display_name": "Python 3"
    },
    "accelerator": "GPU"
  },
  "cells": [
    {
      "cell_type": "markdown",
      "metadata": {
        "id": "view-in-github",
        "colab_type": "text"
      },
      "source": [
        "<a href=\"https://colab.research.google.com/github/Pheasant-King/CAP4630/blob/master/HW2_Prob1.ipynb\" target=\"_parent\"><img src=\"https://colab.research.google.com/assets/colab-badge.svg\" alt=\"Open In Colab\"/></a>"
      ]
    },
    {
      "cell_type": "code",
      "metadata": {
        "id": "DwgbGrv74Kvd",
        "colab_type": "code",
        "colab": {
          "base_uri": "https://localhost:8080/",
          "height": 120
        },
        "outputId": "ee71f4d1-7275-49d4-8523-e835bff93a87"
      },
      "source": [
        "import numpy as np\n",
        "import matplotlib.pyplot as plt\n",
        "import tensorflow as tf\n",
        "from tensorflow import keras\n",
        "from keras.datasets import mnist\n",
        "\n",
        "(train_images, train_labels), (test_images, test_labels) = mnist.load_data()"
      ],
      "execution_count": null,
      "outputs": [
        {
          "output_type": "display_data",
          "data": {
            "text/html": [
              "<p style=\"color: red;\">\n",
              "The default version of TensorFlow in Colab will soon switch to TensorFlow 2.x.<br>\n",
              "We recommend you <a href=\"https://www.tensorflow.org/guide/migrate\" target=\"_blank\">upgrade</a> now \n",
              "or ensure your notebook will continue to use TensorFlow 1.x via the <code>%tensorflow_version 1.x</code> magic:\n",
              "<a href=\"https://colab.research.google.com/notebooks/tensorflow_version.ipynb\" target=\"_blank\">more info</a>.</p>\n"
            ],
            "text/plain": [
              "<IPython.core.display.HTML object>"
            ]
          },
          "metadata": {
            "tags": []
          }
        },
        {
          "output_type": "stream",
          "text": [
            "Using TensorFlow backend.\n"
          ],
          "name": "stderr"
        },
        {
          "output_type": "stream",
          "text": [
            "Downloading data from https://s3.amazonaws.com/img-datasets/mnist.npz\n",
            "11493376/11490434 [==============================] - 1s 0us/step\n"
          ],
          "name": "stdout"
        }
      ]
    },
    {
      "cell_type": "code",
      "metadata": {
        "id": "8MsbVU9DibcS",
        "colab_type": "code",
        "colab": {}
      },
      "source": [
        "width = 28\n",
        "height = 28\n",
        "\n",
        "def connected_components(image):\n",
        "  visited = {}\n",
        "  num_connected_components = 0\n",
        "  \n",
        "  def is_coordinate(x, y):\n",
        "    if x < 0 or x >= width or y < 0 or y >= height:\n",
        "      return False\n",
        "    else:\n",
        "      return True\n",
        "\n",
        "  def is_white(x, y):\n",
        "    return image[(x, y)] < 128\n",
        "      \n",
        "  def DepthFirst(x, y):\n",
        "    # neighboring pixels\n",
        "    for dx, dy in [(-1, 1), (0, 1), (1, 1), (-1, 0), (1, 0), (-1, -1), (0, -1), (1, -1)]:\n",
        "      next_x = x + dx\n",
        "      next_y = y + dy\n",
        "      if is_coordinate(next_x, next_y) and is_white(next_x, next_y) and (next_x, next_y) not in visited:\n",
        "        visited[(next_x, next_y)] = True\n",
        "        DepthFirst(next_x, next_y)\n",
        "        \n",
        "  for x in range(width):\n",
        "    for y in range(height):\n",
        "\n",
        "      if is_white(x, y) and (x, y) not in visited:\n",
        "        visited[(x, y)] = True\n",
        "        num_connected_components = num_connected_components + 1\n",
        "        DepthFirst(x, y)\n",
        "  \n",
        "  return num_connected_components"
      ],
      "execution_count": null,
      "outputs": []
    },
    {
      "cell_type": "code",
      "metadata": {
        "id": "z9Q1-9a-5QJf",
        "colab_type": "code",
        "colab": {}
      },
      "source": [
        "def connected_components_to_vec(images):\n",
        "  num_cc_array = np.zeros((len(images),), dtype=int)\n",
        "  for index in np.arange(len(images)):\n",
        "    num_cc_array[index] = connected_components(images[index])\n",
        "  return num_cc_array"
      ],
      "execution_count": null,
      "outputs": []
    },
    {
      "cell_type": "code",
      "metadata": {
        "id": "LUpLJuL65Z-b",
        "colab_type": "code",
        "colab": {}
      },
      "source": [
        "train_num_connected_components = connected_components_to_vec(train_images)\n",
        "test_num_connected_components = connected_components_to_vec(test_images)"
      ],
      "execution_count": null,
      "outputs": []
    },
    {
      "cell_type": "code",
      "metadata": {
        "id": "NHi87h5F8xpl",
        "colab_type": "code",
        "colab": {
          "base_uri": "https://localhost:8080/",
          "height": 661
        },
        "outputId": "c3acac6b-3dc9-4019-f94c-e413f97e23e0"
      },
      "source": [
        "np.concatenate((train_labels, train_num_connected_components), axis=0)\n",
        "np.concatenate((test_labels, test_num_connected_components), axis=0)\n",
        "\n",
        "model = keras.Sequential([\n",
        "    keras.layers.Flatten(input_shape=(28, 28)),\n",
        "    keras.layers.Dense(32, activation=tf.nn.relu),\n",
        "    keras.layers.Dropout(0.2),\n",
        "    keras.layers.Dense(10, activation=tf.nn.softmax)\n",
        "])\n",
        "\n",
        "model.compile(optimizer='adam',\n",
        "             loss='sparse_categorical_crossentropy',\n",
        "             metrics=['accuracy'])\n",
        "\n",
        "# train the model\n",
        "epochs = 15\n",
        "history = model.fit(train_images, \n",
        "                      train_labels, \n",
        "                      epochs=epochs,  \n",
        "                      validation_data=(test_images, test_labels))"
      ],
      "execution_count": null,
      "outputs": [
        {
          "output_type": "stream",
          "text": [
            "WARNING:tensorflow:From /usr/local/lib/python3.6/dist-packages/tensorflow_core/python/ops/resource_variable_ops.py:1630: calling BaseResourceVariable.__init__ (from tensorflow.python.ops.resource_variable_ops) with constraint is deprecated and will be removed in a future version.\n",
            "Instructions for updating:\n",
            "If using Keras pass *_constraint arguments to layers.\n",
            "Train on 60000 samples, validate on 10000 samples\n",
            "Epoch 1/15\n",
            "60000/60000 [==============================] - 5s 79us/sample - loss: 2.4837 - acc: 0.3787 - val_loss: 1.1079 - val_acc: 0.6526\n",
            "Epoch 2/15\n",
            "60000/60000 [==============================] - 4s 64us/sample - loss: 1.1658 - acc: 0.6119 - val_loss: 0.7773 - val_acc: 0.7624\n",
            "Epoch 3/15\n",
            "60000/60000 [==============================] - 4s 63us/sample - loss: 0.9473 - acc: 0.6793 - val_loss: 0.6904 - val_acc: 0.7859\n",
            "Epoch 4/15\n",
            "60000/60000 [==============================] - 4s 64us/sample - loss: 0.8674 - acc: 0.7000 - val_loss: 0.5904 - val_acc: 0.8225\n",
            "Epoch 5/15\n",
            "60000/60000 [==============================] - 4s 64us/sample - loss: 0.8149 - acc: 0.7304 - val_loss: 0.5404 - val_acc: 0.8683\n",
            "Epoch 6/15\n",
            "60000/60000 [==============================] - 4s 63us/sample - loss: 0.7695 - acc: 0.7529 - val_loss: 0.4800 - val_acc: 0.8753\n",
            "Epoch 7/15\n",
            "60000/60000 [==============================] - 4s 65us/sample - loss: 0.7304 - acc: 0.7610 - val_loss: 0.4876 - val_acc: 0.8735\n",
            "Epoch 8/15\n",
            "60000/60000 [==============================] - 4s 62us/sample - loss: 0.7126 - acc: 0.7701 - val_loss: 0.4159 - val_acc: 0.8944\n",
            "Epoch 9/15\n",
            "60000/60000 [==============================] - 4s 63us/sample - loss: 0.6924 - acc: 0.7781 - val_loss: 0.4252 - val_acc: 0.8952\n",
            "Epoch 10/15\n",
            "60000/60000 [==============================] - 4s 63us/sample - loss: 0.6897 - acc: 0.7813 - val_loss: 0.4793 - val_acc: 0.8473\n",
            "Epoch 11/15\n",
            "60000/60000 [==============================] - 4s 63us/sample - loss: 0.6679 - acc: 0.7900 - val_loss: 0.4504 - val_acc: 0.9006\n",
            "Epoch 12/15\n",
            "60000/60000 [==============================] - 4s 64us/sample - loss: 0.6670 - acc: 0.7915 - val_loss: 0.3881 - val_acc: 0.9101\n",
            "Epoch 13/15\n",
            "60000/60000 [==============================] - 4s 65us/sample - loss: 0.6523 - acc: 0.7984 - val_loss: 0.3602 - val_acc: 0.9125\n",
            "Epoch 14/15\n",
            "60000/60000 [==============================] - 4s 65us/sample - loss: 0.6505 - acc: 0.7960 - val_loss: 0.4260 - val_acc: 0.8961\n",
            "Epoch 15/15\n",
            "60000/60000 [==============================] - 4s 64us/sample - loss: 0.6451 - acc: 0.7987 - val_loss: 0.4039 - val_acc: 0.9105\n"
          ],
          "name": "stdout"
        }
      ]
    },
    {
      "cell_type": "code",
      "metadata": {
        "colab_type": "code",
        "id": "KfmMb5ctrHAf",
        "colab": {
          "base_uri": "https://localhost:8080/",
          "height": 54
        },
        "outputId": "56c3bba3-e652-440d-f64d-1a4ae3b4f397"
      },
      "source": [
        "test_loss, test_acc = model.evaluate(test_images, test_labels)\n",
        "\n",
        "print('Test accuracy:', test_acc)"
      ],
      "execution_count": null,
      "outputs": [
        {
          "output_type": "stream",
          "text": [
            "10000/10000 [==============================] - 0s 39us/sample - loss: 0.4039 - acc: 0.9105\n",
            "Test accuracy: 0.9105\n"
          ],
          "name": "stdout"
        }
      ]
    },
    {
      "cell_type": "code",
      "metadata": {
        "colab_type": "code",
        "id": "rMXJCPWnrHAl",
        "colab": {}
      },
      "source": [
        "history_dict = history.history\n",
        "loss_values = history_dict['loss']\n",
        "test_loss_values = history_dict['val_loss']\n",
        "epochs_range = range(1, epochs+1)"
      ],
      "execution_count": null,
      "outputs": []
    },
    {
      "cell_type": "code",
      "metadata": {
        "colab_type": "code",
        "id": "pJDMprarrHAr",
        "colab": {
          "base_uri": "https://localhost:8080/",
          "height": 295
        },
        "outputId": "baa81498-c2f9-4dcc-a4ce-e3d074a1462d"
      },
      "source": [
        "plt.plot(epochs_range, loss_values, 'bo', label='Training loss')\n",
        "plt.plot(epochs_range, test_loss_values, 'ro', label='Test loss')\n",
        "plt.title('Training and test loss')\n",
        "plt.xlabel('Epochs')\n",
        "plt.ylabel('Loss')\n",
        "plt.legend()\n",
        "plt.show()"
      ],
      "execution_count": null,
      "outputs": [
        {
          "output_type": "display_data",
          "data": {
            "image/png": "[encoded data removed]",
            "text/plain": [
              "<Figure size 432x288 with 1 Axes>"
            ]
          },
          "metadata": {
            "tags": []
          }
        }
      ]
    },
    {
      "cell_type": "code",
      "metadata": {
        "colab_type": "code",
        "id": "QlXUmF5UrHAv",
        "colab": {}
      },
      "source": [
        "acc_values = history_dict['acc']\n",
        "test_acc_values = history_dict['val_acc']"
      ],
      "execution_count": null,
      "outputs": []
    },
    {
      "cell_type": "code",
      "metadata": {
        "colab_type": "code",
        "id": "rUW5dHZPrHA0",
        "colab": {
          "base_uri": "https://localhost:8080/",
          "height": 295
        },
        "outputId": "fac89eee-1375-4842-c9dd-73376f836e50"
      },
      "source": [
        "plt.plot(epochs_range, acc_values, 'bo', label='Training accuracy')\n",
        "plt.plot(epochs_range, test_acc_values, 'ro', label='Test accuracy')\n",
        "plt.title('Training and test accuracy')\n",
        "plt.xlabel('Epochs')\n",
        "plt.ylabel('Accuracy')\n",
        "plt.legend()\n",
        "plt.show()"
      ],
      "execution_count": null,
      "outputs": [
        {
          "output_type": "display_data",
          "data": {
            "image/png": "[encoded data removed]",
            "text/plain": [
              "<Figure size 432x288 with 1 Axes>"
            ]
          },
          "metadata": {
            "tags": []
          }
        }
      ]
    }
  ]
}